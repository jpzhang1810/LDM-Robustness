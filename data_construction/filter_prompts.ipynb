{
 "cells": [
  {
   "cell_type": "code",
   "execution_count": 8,
   "id": "1a5dc8ec-e5c3-4f1b-bf49-83fffe61fde6",
   "metadata": {
    "execution": {
     "shell.execute_reply.end": "2023-04-20T03:29:42.612635Z",
     "shell.execute_reply.started": "2023-04-20T03:29:42.454550Z",
     "to_execute": "2023-04-20T03:29:42.184Z"
    }
   },
   "outputs": [
    {
     "name": "stdout",
     "output_type": "stream",
     "text": [
      "The autoreload extension is already loaded. To reload it, use:\n",
      "  %reload_ext autoreload\n",
      "000000276284.jpg\n",
      "6399\n"
     ]
    }
   ],
   "source": [
    "# Select top 5 generated prompts for each image\n",
    "%load_ext autoreload\n",
    "%autoreload 2\n",
    "\n",
    "import os\n",
    "from PIL import Image, ImageOps\n",
    "import requests\n",
    "import torch\n",
    "import numpy as np\n",
    "import json\n",
    "\n",
    "with open(\"captions.json\", \"r\") as f:\n",
    "    captions_dict = json.load(f)\n",
    "image_names = list(captions_dict.keys())\n",
    "print(image_names[0])\n",
    "\n",
    "with open(\"all_prompts.txt\", \"r\") as f:\n",
    "    all_prompts = f.readlines()\n",
    "print(len(all_prompts))"
   ]
  },
  {
   "cell_type": "code",
   "execution_count": 9,
   "id": "c5619364-cdd9-4fbb-8b22-b776ed931dd1",
   "metadata": {
    "execution": {
     "shell.execute_reply.end": "2023-04-20T03:30:57.126215Z",
     "shell.execute_reply.started": "2023-04-20T03:30:26.093680Z",
     "to_execute": "2023-04-20T03:30:25.826Z"
    }
   },
   "outputs": [
    {
     "name": "stderr",
     "output_type": "stream",
     "text": [
      "Using TensorFlow backend.\n"
     ]
    }
   ],
   "source": [
    "from torchmetrics.multimodal import CLIPScore\n",
    "import torchvision.transforms as transforms\n",
    "\n",
    "transform = transforms.Compose([\n",
    "    transforms.PILToTensor()\n",
    "])\n",
    "path_to_coco = \"./coco\"\n",
    "metric = CLIPScore(model_name_or_path=\"openai/clip-vit-base-patch16\")"
   ]
  },
  {
   "cell_type": "code",
   "execution_count": 25,
   "id": "9d9762af-aa2f-48d9-96e5-b333e2747e2d",
   "metadata": {
    "execution": {
     "shell.execute_reply.end": "2023-04-20T05:48:22.471378Z",
     "shell.execute_reply.started": "2023-04-20T04:33:00.583789Z",
     "to_execute": "2023-04-20T04:33:00.490Z"
    }
   },
   "outputs": [
    {
     "name": "stdout",
     "output_type": "stream",
     "text": [
      "0\n",
      "20\n",
      "40\n",
      "60\n",
      "80\n",
      "100\n",
      "120\n",
      "140\n",
      "160\n",
      "180\n",
      "200\n",
      "220\n",
      "240\n",
      "260\n",
      "280\n",
      "300\n",
      "320\n",
      "340\n",
      "360\n",
      "380\n"
     ]
    }
   ],
   "source": [
    "# Method 1: Filter out prompts via clip score between ori image and generated prompt (keep the main entity unchanged in prompt)\n",
    "prompts_dict = {}\n",
    "line_no = 0\n",
    "for i in range(len(image_names)):\n",
    "    if i%20 == 0:\n",
    "        print(i)\n",
    "    init_image = Image.open(path_to_coco + \"/images/val2017/\" + image_names[i]).convert('RGB')\n",
    "    sim_score = []\n",
    "    for j in range(15):\n",
    "        prompt = all_prompts[i*16+j]\n",
    "        score = metric(transform(init_image), prompt)\n",
    "        sim_score.append(score.detach().numpy())\n",
    "    sim_score = np.array(sim_score)\n",
    "    sim_score_idx = np.argsort(sim_score)\n",
    "    prompt_select = []\n",
    "    for idx in sim_score_idx[-5:]:\n",
    "        prompt_select.append(all_prompts[i*16+idx])\n",
    "    prompts_dict[image_names[i]] = prompt_select"
   ]
  },
  {
   "cell_type": "code",
   "execution_count": 26,
   "id": "348c232a-f174-4ba4-b6f5-50275e6c6147",
   "metadata": {
    "execution": {
     "shell.execute_reply.end": "2023-04-20T05:48:22.842007Z",
     "shell.execute_reply.started": "2023-04-20T05:48:22.474279Z",
     "to_execute": "2023-04-20T05:46:10.485Z"
    }
   },
   "outputs": [],
   "source": [
    "with open(\"prompts.json\", \"w\") as f:\n",
    "    json.dump(prompts_dict, f)"
   ]
  }
 ],
 "metadata": {
  "kernelspec": {
   "display_name": "Python 3",
   "language": "python",
   "name": "python3"
  },
  "language_info": {
   "codemirror_mode": {
    "name": "ipython",
    "version": 3
   },
   "file_extension": ".py",
   "mimetype": "text/x-python",
   "name": "python",
   "nbconvert_exporter": "python",
   "pygments_lexer": "ipython3",
   "version": "3.8.8"
  }
 },
 "nbformat": 4,
 "nbformat_minor": 5
}
